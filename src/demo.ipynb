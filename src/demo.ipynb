{
 "cells": [
  {
   "cell_type": "code",
   "execution_count": 1,
   "metadata": {},
   "outputs": [],
   "source": [
    "%load_ext autoreload\n",
    "%autoreload 2"
   ]
  },
  {
   "cell_type": "code",
   "execution_count": 2,
   "metadata": {},
   "outputs": [],
   "source": [
    "from definitions import Paths\n",
    "from star_field_analyzer import RawImage, list_observations, raw_to_df"
   ]
  },
  {
   "cell_type": "code",
   "execution_count": null,
   "metadata": {},
   "outputs": [
    {
     "data": {
      "text/html": [
       "<div>\n",
       "<style scoped>\n",
       "    .dataframe tbody tr th:only-of-type {\n",
       "        vertical-align: middle;\n",
       "    }\n",
       "\n",
       "    .dataframe tbody tr th {\n",
       "        vertical-align: top;\n",
       "    }\n",
       "\n",
       "    .dataframe thead th {\n",
       "        text-align: right;\n",
       "    }\n",
       "</style>\n",
       "<table border=\"1\" class=\"dataframe\">\n",
       "  <thead>\n",
       "    <tr style=\"text-align: right;\">\n",
       "      <th></th>\n",
       "      <th>filepath</th>\n",
       "      <th>width</th>\n",
       "      <th>height</th>\n",
       "      <th>focal_length</th>\n",
       "      <th>aperture</th>\n",
       "      <th>shutter</th>\n",
       "      <th>iso</th>\n",
       "      <th>timestamp</th>\n",
       "      <th>camera</th>\n",
       "    </tr>\n",
       "  </thead>\n",
       "  <tbody>\n",
       "    <tr>\n",
       "      <th>0</th>\n",
       "      <td>calibration/2024-11-05/black_1.CR2</td>\n",
       "      <td>5202</td>\n",
       "      <td>3465</td>\n",
       "      <td>23.0</td>\n",
       "      <td>3.5</td>\n",
       "      <td>0.076923</td>\n",
       "      <td>6400</td>\n",
       "      <td>2024-11-05 00:49:31</td>\n",
       "      <td>Canon EOS 1200D</td>\n",
       "    </tr>\n",
       "    <tr>\n",
       "      <th>1</th>\n",
       "      <td>calibration/2024-11-05/black_2.CR2</td>\n",
       "      <td>5202</td>\n",
       "      <td>3465</td>\n",
       "      <td>18.0</td>\n",
       "      <td>3.5</td>\n",
       "      <td>0.002500</td>\n",
       "      <td>6400</td>\n",
       "      <td>2024-11-05 01:05:35</td>\n",
       "      <td>Canon EOS 1200D</td>\n",
       "    </tr>\n",
       "    <tr>\n",
       "      <th>2</th>\n",
       "      <td>calibration/2024-11-05/white_1.CR2</td>\n",
       "      <td>5202</td>\n",
       "      <td>3465</td>\n",
       "      <td>18.0</td>\n",
       "      <td>3.5</td>\n",
       "      <td>10.000000</td>\n",
       "      <td>6400</td>\n",
       "      <td>2024-11-05 00:48:41</td>\n",
       "      <td>Canon EOS 1200D</td>\n",
       "    </tr>\n",
       "    <tr>\n",
       "      <th>3</th>\n",
       "      <td>observations/2024-11-05/IMG_3316.CR2</td>\n",
       "      <td>5202</td>\n",
       "      <td>3465</td>\n",
       "      <td>18.0</td>\n",
       "      <td>3.5</td>\n",
       "      <td>10.000000</td>\n",
       "      <td>6400</td>\n",
       "      <td>2024-11-05 00:12:22</td>\n",
       "      <td>Canon EOS 1200D</td>\n",
       "    </tr>\n",
       "    <tr>\n",
       "      <th>4</th>\n",
       "      <td>observations/2024-11-05/IMG_3318.CR2</td>\n",
       "      <td>5202</td>\n",
       "      <td>3465</td>\n",
       "      <td>18.0</td>\n",
       "      <td>3.5</td>\n",
       "      <td>10.000000</td>\n",
       "      <td>6400</td>\n",
       "      <td>2024-11-05 00:18:32</td>\n",
       "      <td>Canon EOS 1200D</td>\n",
       "    </tr>\n",
       "  </tbody>\n",
       "</table>\n",
       "</div>"
      ],
      "text/plain": [
       "                               filepath  width  height  focal_length  \\\n",
       "0    calibration/2024-11-05/black_1.CR2   5202    3465          23.0   \n",
       "1    calibration/2024-11-05/black_2.CR2   5202    3465          18.0   \n",
       "2    calibration/2024-11-05/white_1.CR2   5202    3465          18.0   \n",
       "3  observations/2024-11-05/IMG_3316.CR2   5202    3465          18.0   \n",
       "4  observations/2024-11-05/IMG_3318.CR2   5202    3465          18.0   \n",
       "\n",
       "   aperture    shutter   iso           timestamp           camera  \n",
       "0       3.5   0.076923  6400 2024-11-05 00:49:31  Canon EOS 1200D  \n",
       "1       3.5   0.002500  6400 2024-11-05 01:05:35  Canon EOS 1200D  \n",
       "2       3.5  10.000000  6400 2024-11-05 00:48:41  Canon EOS 1200D  \n",
       "3       3.5  10.000000  6400 2024-11-05 00:12:22  Canon EOS 1200D  \n",
       "4       3.5  10.000000  6400 2024-11-05 00:18:32  Canon EOS 1200D  "
      ]
     },
     "execution_count": 3,
     "metadata": {},
     "output_type": "execute_result"
    }
   ],
   "source": [
    "files = list_observations()\n",
    "df = raw_to_df(files)\n",
    "df.head()"
   ]
  },
  {
   "cell_type": "code",
   "execution_count": null,
   "metadata": {},
   "outputs": [],
   "source": [
    "img = RawImage(Paths.observations / \"2024-11-05/IMG_3320.CR2\")\n",
    "img.get_raw().show()"
   ]
  },
  {
   "cell_type": "code",
   "execution_count": null,
   "metadata": {},
   "outputs": [],
   "source": [
    "img = RawImage(Paths.observations / \"2024-11-05/IMG_3320.CR2\")\n",
    "img.to_rgb_rawkit().show()\n",
    "img.to_rgb_cv2().show()"
   ]
  },
  {
   "cell_type": "code",
   "execution_count": null,
   "metadata": {},
   "outputs": [],
   "source": []
  }
 ],
 "metadata": {
  "kernelspec": {
   "display_name": ".venv",
   "language": "python",
   "name": "python3"
  },
  "language_info": {
   "codemirror_mode": {
    "name": "ipython",
    "version": 3
   },
   "file_extension": ".py",
   "mimetype": "text/x-python",
   "name": "python",
   "nbconvert_exporter": "python",
   "pygments_lexer": "ipython3",
   "version": "3.12.2"
  }
 },
 "nbformat": 4,
 "nbformat_minor": 2
}
