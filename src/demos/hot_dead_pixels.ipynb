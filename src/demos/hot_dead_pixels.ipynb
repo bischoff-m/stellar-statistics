{
    "cells": [
        {
            "cell_type": "code",
            "execution_count": 1,
            "metadata": {},
            "outputs": [],
            "source": [
                "%load_ext autoreload\n",
                "%autoreload 2"
            ]
        },
        {
            "cell_type": "code",
            "execution_count": 71,
            "metadata": {},
            "outputs": [],
            "source": [
                "import celestializer as cl\n",
                "import numpy as np"
            ]
        },
        {
            "cell_type": "code",
            "execution_count": 72,
            "metadata": {},
            "outputs": [
                {
                    "data": {
                        "text/plain": [
                            "{'width': 5202,\n",
                            " 'height': 3465,\n",
                            " 'focal_length': 18.0,\n",
                            " 'aperture': 3.5,\n",
                            " 'shutter': 10.0,\n",
                            " 'iso': 6400,\n",
                            " 'timestamp': datetime.datetime(2024, 11, 5, 0, 37, 58),\n",
                            " 'camera': 'Canon EOS 1200D',\n",
                            " 'bit_depth': 14}"
                        ]
                    },
                    "execution_count": 72,
                    "metadata": {},
                    "output_type": "execute_result"
                }
            ],
            "source": [
                "\n",
                "img_sky = cl.RawImage(cl.Paths.observations / \"2024-11-05/IMG_3320.CR2\").load()\n",
                "img = img_sky.raw()\n",
                "img_sky.metadata.model_dump()"
            ]
        },
        {
            "cell_type": "code",
            "execution_count": 73,
            "metadata": {},
            "outputs": [],
            "source": [
                "img_in = img.green_interpolated()\n",
                "img_in = cl.correct_vignette(img_in)\n",
                "img_in = img_in.channel(\"green\")"
            ]
        },
        {
            "cell_type": "code",
            "execution_count": null,
            "metadata": {},
            "outputs": [
                {
                    "name": "stdout",
                    "output_type": "stream",
                    "text": [
                        "Found 42 hot pixels and 107 dead pixels\n"
                    ]
                }
            ],
            "source": [
                "mask_hot, mask_dead = cl.find_defects(img_in)\n",
                "print(f\"Found {mask_hot.sum()} hot pixels and {mask_dead.sum()} dead pixels\")\n",
                "\n",
                "mask_out = np.zeros((*img_in.shape, 3), dtype=np.float32)\n",
                "mask_out[..., 1] = mask_hot.astype(np.float32)\n",
                "mask_out[..., 0] = mask_dead.astype(np.float32)\n",
                "mask_out = cl.ImageNBit(mask_out, 1)\n",
                "mask_out.save(cl.Paths.saved / \"defects_mask.png\")\n",
                "mask = mask_hot | mask_dead\n",
                "img_out = cl.replace_defects(img_in, mask)\n",
                "img_out.save(cl.Paths.saved / \"defects_replaced.png\")"
            ]
        },
        {
            "cell_type": "code",
            "execution_count": null,
            "metadata": {},
            "outputs": [],
            "source": []
        }
    ],
    "metadata": {
        "kernelspec": {
            "display_name": ".venv",
            "language": "python",
            "name": "python3"
        },
        "language_info": {
            "codemirror_mode": {
                "name": "ipython",
                "version": 3
            },
            "file_extension": ".py",
            "mimetype": "text/x-python",
            "name": "python",
            "nbconvert_exporter": "python",
            "pygments_lexer": "ipython3",
            "version": "3.12.2"
        }
    },
    "nbformat": 4,
    "nbformat_minor": 2
}
