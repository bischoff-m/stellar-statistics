{
    "cells": [
        {
            "cell_type": "markdown",
            "metadata": {},
            "source": [
                "## Histogram of the image values"
            ]
        },
        {
            "cell_type": "code",
            "execution_count": 1,
            "metadata": {},
            "outputs": [],
            "source": [
                "%load_ext autoreload\n",
                "%autoreload 2"
            ]
        },
        {
            "cell_type": "code",
            "execution_count": 2,
            "metadata": {},
            "outputs": [],
            "source": [
                "import celestializer as cl\n",
                "from tqdm import tqdm\n",
                "import pandas as pd\n",
                "import numpy as np\n",
                "import matplotlib.pyplot as plt"
            ]
        },
        {
            "cell_type": "code",
            "execution_count": 3,
            "metadata": {},
            "outputs": [],
            "source": [
                "files = cl.list_observations()\n",
                "df = cl.raw_to_df(files)"
            ]
        },
        {
            "cell_type": "code",
            "execution_count": 4,
            "metadata": {},
            "outputs": [
                {
                    "data": {
                        "text/html": [
                            "<div>\n",
                            "<style scoped>\n",
                            "    .dataframe tbody tr th:only-of-type {\n",
                            "        vertical-align: middle;\n",
                            "    }\n",
                            "\n",
                            "    .dataframe tbody tr th {\n",
                            "        vertical-align: top;\n",
                            "    }\n",
                            "\n",
                            "    .dataframe thead th {\n",
                            "        text-align: right;\n",
                            "    }\n",
                            "</style>\n",
                            "<table border=\"1\" class=\"dataframe\">\n",
                            "  <thead>\n",
                            "    <tr style=\"text-align: right;\">\n",
                            "      <th></th>\n",
                            "      <th>filepath</th>\n",
                            "      <th>width</th>\n",
                            "      <th>height</th>\n",
                            "      <th>focal_length</th>\n",
                            "      <th>aperture</th>\n",
                            "      <th>shutter</th>\n",
                            "      <th>iso</th>\n",
                            "      <th>timestamp</th>\n",
                            "      <th>camera</th>\n",
                            "      <th>bit_depth</th>\n",
                            "    </tr>\n",
                            "  </thead>\n",
                            "  <tbody>\n",
                            "    <tr>\n",
                            "      <th>33</th>\n",
                            "      <td>observations/2024-11-05/IMG_3339.CR2</td>\n",
                            "      <td>5202</td>\n",
                            "      <td>3465</td>\n",
                            "      <td>23.0</td>\n",
                            "      <td>3.5</td>\n",
                            "      <td>10.0</td>\n",
                            "      <td>100</td>\n",
                            "      <td>2024-11-05 00:54:11</td>\n",
                            "      <td>Canon EOS 1200D</td>\n",
                            "      <td>14</td>\n",
                            "    </tr>\n",
                            "    <tr>\n",
                            "      <th>32</th>\n",
                            "      <td>observations/2024-11-05/IMG_3338.CR2</td>\n",
                            "      <td>5202</td>\n",
                            "      <td>3465</td>\n",
                            "      <td>23.0</td>\n",
                            "      <td>3.5</td>\n",
                            "      <td>10.0</td>\n",
                            "      <td>200</td>\n",
                            "      <td>2024-11-05 00:53:53</td>\n",
                            "      <td>Canon EOS 1200D</td>\n",
                            "      <td>14</td>\n",
                            "    </tr>\n",
                            "    <tr>\n",
                            "      <th>31</th>\n",
                            "      <td>observations/2024-11-05/IMG_3337.CR2</td>\n",
                            "      <td>5202</td>\n",
                            "      <td>3465</td>\n",
                            "      <td>23.0</td>\n",
                            "      <td>3.5</td>\n",
                            "      <td>10.0</td>\n",
                            "      <td>400</td>\n",
                            "      <td>2024-11-05 00:53:29</td>\n",
                            "      <td>Canon EOS 1200D</td>\n",
                            "      <td>14</td>\n",
                            "    </tr>\n",
                            "    <tr>\n",
                            "      <th>30</th>\n",
                            "      <td>observations/2024-11-05/IMG_3336.CR2</td>\n",
                            "      <td>5202</td>\n",
                            "      <td>3465</td>\n",
                            "      <td>23.0</td>\n",
                            "      <td>3.5</td>\n",
                            "      <td>10.0</td>\n",
                            "      <td>800</td>\n",
                            "      <td>2024-11-05 00:53:09</td>\n",
                            "      <td>Canon EOS 1200D</td>\n",
                            "      <td>14</td>\n",
                            "    </tr>\n",
                            "    <tr>\n",
                            "      <th>29</th>\n",
                            "      <td>observations/2024-11-05/IMG_3335.CR2</td>\n",
                            "      <td>5202</td>\n",
                            "      <td>3465</td>\n",
                            "      <td>23.0</td>\n",
                            "      <td>3.5</td>\n",
                            "      <td>10.0</td>\n",
                            "      <td>1600</td>\n",
                            "      <td>2024-11-05 00:52:50</td>\n",
                            "      <td>Canon EOS 1200D</td>\n",
                            "      <td>14</td>\n",
                            "    </tr>\n",
                            "    <tr>\n",
                            "      <th>28</th>\n",
                            "      <td>observations/2024-11-05/IMG_3334.CR2</td>\n",
                            "      <td>5202</td>\n",
                            "      <td>3465</td>\n",
                            "      <td>23.0</td>\n",
                            "      <td>3.5</td>\n",
                            "      <td>10.0</td>\n",
                            "      <td>3200</td>\n",
                            "      <td>2024-11-05 00:52:30</td>\n",
                            "      <td>Canon EOS 1200D</td>\n",
                            "      <td>14</td>\n",
                            "    </tr>\n",
                            "    <tr>\n",
                            "      <th>27</th>\n",
                            "      <td>observations/2024-11-05/IMG_3333.CR2</td>\n",
                            "      <td>5202</td>\n",
                            "      <td>3465</td>\n",
                            "      <td>23.0</td>\n",
                            "      <td>3.5</td>\n",
                            "      <td>10.0</td>\n",
                            "      <td>6400</td>\n",
                            "      <td>2024-11-05 00:51:48</td>\n",
                            "      <td>Canon EOS 1200D</td>\n",
                            "      <td>14</td>\n",
                            "    </tr>\n",
                            "    <tr>\n",
                            "      <th>34</th>\n",
                            "      <td>observations/2024-11-05/IMG_3340.CR2</td>\n",
                            "      <td>5202</td>\n",
                            "      <td>3465</td>\n",
                            "      <td>23.0</td>\n",
                            "      <td>3.5</td>\n",
                            "      <td>10.0</td>\n",
                            "      <td>12800</td>\n",
                            "      <td>2024-11-05 00:54:36</td>\n",
                            "      <td>Canon EOS 1200D</td>\n",
                            "      <td>14</td>\n",
                            "    </tr>\n",
                            "  </tbody>\n",
                            "</table>\n",
                            "</div>"
                        ],
                        "text/plain": [
                            "                                filepath  width  height  focal_length  \\\n",
                            "33  observations/2024-11-05/IMG_3339.CR2   5202    3465          23.0   \n",
                            "32  observations/2024-11-05/IMG_3338.CR2   5202    3465          23.0   \n",
                            "31  observations/2024-11-05/IMG_3337.CR2   5202    3465          23.0   \n",
                            "30  observations/2024-11-05/IMG_3336.CR2   5202    3465          23.0   \n",
                            "29  observations/2024-11-05/IMG_3335.CR2   5202    3465          23.0   \n",
                            "28  observations/2024-11-05/IMG_3334.CR2   5202    3465          23.0   \n",
                            "27  observations/2024-11-05/IMG_3333.CR2   5202    3465          23.0   \n",
                            "34  observations/2024-11-05/IMG_3340.CR2   5202    3465          23.0   \n",
                            "\n",
                            "    aperture  shutter    iso           timestamp           camera  bit_depth  \n",
                            "33       3.5     10.0    100 2024-11-05 00:54:11  Canon EOS 1200D         14  \n",
                            "32       3.5     10.0    200 2024-11-05 00:53:53  Canon EOS 1200D         14  \n",
                            "31       3.5     10.0    400 2024-11-05 00:53:29  Canon EOS 1200D         14  \n",
                            "30       3.5     10.0    800 2024-11-05 00:53:09  Canon EOS 1200D         14  \n",
                            "29       3.5     10.0   1600 2024-11-05 00:52:50  Canon EOS 1200D         14  \n",
                            "28       3.5     10.0   3200 2024-11-05 00:52:30  Canon EOS 1200D         14  \n",
                            "27       3.5     10.0   6400 2024-11-05 00:51:48  Canon EOS 1200D         14  \n",
                            "34       3.5     10.0  12800 2024-11-05 00:54:36  Canon EOS 1200D         14  "
                        ]
                    },
                    "metadata": {},
                    "output_type": "display_data"
                },
                {
                    "name": "stdout",
                    "output_type": "stream",
                    "text": [
                        "Load images\n"
                    ]
                },
                {
                    "name": "stderr",
                    "output_type": "stream",
                    "text": [
                        "100%|██████████| 8/8 [00:18<00:00,  2.32s/it]\n"
                    ]
                }
            ],
            "source": [
                "iso_series = cl.grab_series(df, \"iso\")\n",
                "n_iso = len(iso_series)\n",
                "display(iso_series)\n",
                "\n",
                "print(\"Load images\")\n",
                "imgs = [\n",
                "    (row[\"iso\"], cl.RawImage(cl.Paths.data / row[\"filepath\"]).load())\n",
                "    for _, row in tqdm(iso_series.iterrows(), total=n_iso)\n",
                "]"
            ]
        },
        {
            "cell_type": "code",
            "execution_count": 5,
            "metadata": {},
            "outputs": [
                {
                    "data": {
                        "text/html": [
                            "<div>\n",
                            "<style scoped>\n",
                            "    .dataframe tbody tr th:only-of-type {\n",
                            "        vertical-align: middle;\n",
                            "    }\n",
                            "\n",
                            "    .dataframe tbody tr th {\n",
                            "        vertical-align: top;\n",
                            "    }\n",
                            "\n",
                            "    .dataframe thead th {\n",
                            "        text-align: right;\n",
                            "    }\n",
                            "</style>\n",
                            "<table border=\"1\" class=\"dataframe\">\n",
                            "  <thead>\n",
                            "    <tr style=\"text-align: right;\">\n",
                            "      <th></th>\n",
                            "      <th>filepath</th>\n",
                            "      <th>width</th>\n",
                            "      <th>height</th>\n",
                            "      <th>focal_length</th>\n",
                            "      <th>aperture</th>\n",
                            "      <th>shutter</th>\n",
                            "      <th>iso</th>\n",
                            "      <th>timestamp</th>\n",
                            "      <th>camera</th>\n",
                            "      <th>bit_depth</th>\n",
                            "    </tr>\n",
                            "  </thead>\n",
                            "  <tbody>\n",
                            "    <tr>\n",
                            "      <th>33</th>\n",
                            "      <td>observations/2024-11-05/IMG_3339.CR2</td>\n",
                            "      <td>5202</td>\n",
                            "      <td>3465</td>\n",
                            "      <td>23.0</td>\n",
                            "      <td>3.5</td>\n",
                            "      <td>10.0</td>\n",
                            "      <td>100</td>\n",
                            "      <td>2024-11-05 00:54:11</td>\n",
                            "      <td>Canon EOS 1200D</td>\n",
                            "      <td>14</td>\n",
                            "    </tr>\n",
                            "    <tr>\n",
                            "      <th>32</th>\n",
                            "      <td>observations/2024-11-05/IMG_3338.CR2</td>\n",
                            "      <td>5202</td>\n",
                            "      <td>3465</td>\n",
                            "      <td>23.0</td>\n",
                            "      <td>3.5</td>\n",
                            "      <td>10.0</td>\n",
                            "      <td>200</td>\n",
                            "      <td>2024-11-05 00:53:53</td>\n",
                            "      <td>Canon EOS 1200D</td>\n",
                            "      <td>14</td>\n",
                            "    </tr>\n",
                            "    <tr>\n",
                            "      <th>31</th>\n",
                            "      <td>observations/2024-11-05/IMG_3337.CR2</td>\n",
                            "      <td>5202</td>\n",
                            "      <td>3465</td>\n",
                            "      <td>23.0</td>\n",
                            "      <td>3.5</td>\n",
                            "      <td>10.0</td>\n",
                            "      <td>400</td>\n",
                            "      <td>2024-11-05 00:53:29</td>\n",
                            "      <td>Canon EOS 1200D</td>\n",
                            "      <td>14</td>\n",
                            "    </tr>\n",
                            "    <tr>\n",
                            "      <th>30</th>\n",
                            "      <td>observations/2024-11-05/IMG_3336.CR2</td>\n",
                            "      <td>5202</td>\n",
                            "      <td>3465</td>\n",
                            "      <td>23.0</td>\n",
                            "      <td>3.5</td>\n",
                            "      <td>10.0</td>\n",
                            "      <td>800</td>\n",
                            "      <td>2024-11-05 00:53:09</td>\n",
                            "      <td>Canon EOS 1200D</td>\n",
                            "      <td>14</td>\n",
                            "    </tr>\n",
                            "    <tr>\n",
                            "      <th>29</th>\n",
                            "      <td>observations/2024-11-05/IMG_3335.CR2</td>\n",
                            "      <td>5202</td>\n",
                            "      <td>3465</td>\n",
                            "      <td>23.0</td>\n",
                            "      <td>3.5</td>\n",
                            "      <td>10.0</td>\n",
                            "      <td>1600</td>\n",
                            "      <td>2024-11-05 00:52:50</td>\n",
                            "      <td>Canon EOS 1200D</td>\n",
                            "      <td>14</td>\n",
                            "    </tr>\n",
                            "    <tr>\n",
                            "      <th>28</th>\n",
                            "      <td>observations/2024-11-05/IMG_3334.CR2</td>\n",
                            "      <td>5202</td>\n",
                            "      <td>3465</td>\n",
                            "      <td>23.0</td>\n",
                            "      <td>3.5</td>\n",
                            "      <td>10.0</td>\n",
                            "      <td>3200</td>\n",
                            "      <td>2024-11-05 00:52:30</td>\n",
                            "      <td>Canon EOS 1200D</td>\n",
                            "      <td>14</td>\n",
                            "    </tr>\n",
                            "    <tr>\n",
                            "      <th>27</th>\n",
                            "      <td>observations/2024-11-05/IMG_3333.CR2</td>\n",
                            "      <td>5202</td>\n",
                            "      <td>3465</td>\n",
                            "      <td>23.0</td>\n",
                            "      <td>3.5</td>\n",
                            "      <td>10.0</td>\n",
                            "      <td>6400</td>\n",
                            "      <td>2024-11-05 00:51:48</td>\n",
                            "      <td>Canon EOS 1200D</td>\n",
                            "      <td>14</td>\n",
                            "    </tr>\n",
                            "    <tr>\n",
                            "      <th>34</th>\n",
                            "      <td>observations/2024-11-05/IMG_3340.CR2</td>\n",
                            "      <td>5202</td>\n",
                            "      <td>3465</td>\n",
                            "      <td>23.0</td>\n",
                            "      <td>3.5</td>\n",
                            "      <td>10.0</td>\n",
                            "      <td>12800</td>\n",
                            "      <td>2024-11-05 00:54:36</td>\n",
                            "      <td>Canon EOS 1200D</td>\n",
                            "      <td>14</td>\n",
                            "    </tr>\n",
                            "  </tbody>\n",
                            "</table>\n",
                            "</div>"
                        ],
                        "text/plain": [
                            "                                filepath  width  height  focal_length  \\\n",
                            "33  observations/2024-11-05/IMG_3339.CR2   5202    3465          23.0   \n",
                            "32  observations/2024-11-05/IMG_3338.CR2   5202    3465          23.0   \n",
                            "31  observations/2024-11-05/IMG_3337.CR2   5202    3465          23.0   \n",
                            "30  observations/2024-11-05/IMG_3336.CR2   5202    3465          23.0   \n",
                            "29  observations/2024-11-05/IMG_3335.CR2   5202    3465          23.0   \n",
                            "28  observations/2024-11-05/IMG_3334.CR2   5202    3465          23.0   \n",
                            "27  observations/2024-11-05/IMG_3333.CR2   5202    3465          23.0   \n",
                            "34  observations/2024-11-05/IMG_3340.CR2   5202    3465          23.0   \n",
                            "\n",
                            "    aperture  shutter    iso           timestamp           camera  bit_depth  \n",
                            "33       3.5     10.0    100 2024-11-05 00:54:11  Canon EOS 1200D         14  \n",
                            "32       3.5     10.0    200 2024-11-05 00:53:53  Canon EOS 1200D         14  \n",
                            "31       3.5     10.0    400 2024-11-05 00:53:29  Canon EOS 1200D         14  \n",
                            "30       3.5     10.0    800 2024-11-05 00:53:09  Canon EOS 1200D         14  \n",
                            "29       3.5     10.0   1600 2024-11-05 00:52:50  Canon EOS 1200D         14  \n",
                            "28       3.5     10.0   3200 2024-11-05 00:52:30  Canon EOS 1200D         14  \n",
                            "27       3.5     10.0   6400 2024-11-05 00:51:48  Canon EOS 1200D         14  \n",
                            "34       3.5     10.0  12800 2024-11-05 00:54:36  Canon EOS 1200D         14  "
                        ]
                    },
                    "metadata": {},
                    "output_type": "display_data"
                }
            ],
            "source": [
                "\n",
                "display(iso_series)"
            ]
        },
        {
            "cell_type": "code",
            "execution_count": 6,
            "metadata": {},
            "outputs": [
                {
                    "name": "stderr",
                    "output_type": "stream",
                    "text": [
                        "  0%|          | 0/8 [00:00<?, ?it/s]"
                    ]
                },
                {
                    "name": "stdout",
                    "output_type": "stream",
                    "text": [
                        "Processing ISO 100\n",
                        "Trying tolerance 3\n",
                        "Found 33 stars\n"
                    ]
                },
                {
                    "name": "stderr",
                    "output_type": "stream",
                    "text": [
                        "100%|██████████| 32/32 [00:00<00:00, 115.71it/s]\n",
                        " 12%|█▎        | 1/8 [00:04<00:34,  4.92s/it]"
                    ]
                },
                {
                    "name": "stdout",
                    "output_type": "stream",
                    "text": [
                        "Processing ISO 200\n",
                        "Trying tolerance 3\n",
                        "Trying tolerance 8\n",
                        "Found 20 stars\n"
                    ]
                },
                {
                    "name": "stderr",
                    "output_type": "stream",
                    "text": [
                        "100%|██████████| 19/19 [00:00<00:00, 117.37it/s]\n",
                        " 25%|██▌       | 2/8 [00:09<00:28,  4.82s/it]"
                    ]
                },
                {
                    "name": "stdout",
                    "output_type": "stream",
                    "text": [
                        "Processing ISO 400\n",
                        "Trying tolerance 3\n",
                        "Found 69 stars\n"
                    ]
                },
                {
                    "name": "stderr",
                    "output_type": "stream",
                    "text": [
                        "100%|██████████| 68/68 [00:00<00:00, 132.82it/s]\n",
                        " 38%|███▊      | 3/8 [00:14<00:23,  4.67s/it]"
                    ]
                },
                {
                    "name": "stdout",
                    "output_type": "stream",
                    "text": [
                        "Processing ISO 800\n",
                        "Trying tolerance 3\n",
                        "Found 63 stars\n"
                    ]
                },
                {
                    "name": "stderr",
                    "output_type": "stream",
                    "text": [
                        "100%|██████████| 62/62 [00:00<00:00, 127.48it/s]\n",
                        " 50%|█████     | 4/8 [00:17<00:17,  4.32s/it]"
                    ]
                },
                {
                    "name": "stdout",
                    "output_type": "stream",
                    "text": [
                        "Processing ISO 1600\n",
                        "Trying tolerance 3\n",
                        "Trying tolerance 8\n",
                        "Found 46 stars\n"
                    ]
                },
                {
                    "name": "stderr",
                    "output_type": "stream",
                    "text": [
                        "100%|██████████| 45/45 [00:00<00:00, 136.73it/s]\n",
                        " 62%|██████▎   | 5/8 [00:21<00:12,  4.05s/it]"
                    ]
                },
                {
                    "name": "stdout",
                    "output_type": "stream",
                    "text": [
                        "Processing ISO 3200\n",
                        "Trying tolerance 3\n",
                        "Trying tolerance 8\n",
                        "Trying tolerance 13\n",
                        "Found 28 stars\n"
                    ]
                },
                {
                    "name": "stderr",
                    "output_type": "stream",
                    "text": [
                        "100%|██████████| 27/27 [00:00<00:00, 136.61it/s]\n",
                        " 75%|███████▌  | 6/8 [00:25<00:07,  3.88s/it]"
                    ]
                },
                {
                    "name": "stdout",
                    "output_type": "stream",
                    "text": [
                        "Processing ISO 6400\n",
                        "Trying tolerance 3\n",
                        "Trying tolerance 8\n",
                        "Trying tolerance 13\n",
                        "Trying tolerance 18\n",
                        "Found 65 stars\n"
                    ]
                },
                {
                    "name": "stderr",
                    "output_type": "stream",
                    "text": [
                        "100%|██████████| 64/64 [00:00<00:00, 137.32it/s]\n",
                        " 88%|████████▊ | 7/8 [00:28<00:03,  3.89s/it]"
                    ]
                },
                {
                    "name": "stdout",
                    "output_type": "stream",
                    "text": [
                        "Processing ISO 12800\n",
                        "Trying tolerance 3\n",
                        "Trying tolerance 8\n",
                        "Trying tolerance 13\n",
                        "Trying tolerance 18\n",
                        "Trying tolerance 23\n",
                        "Trying tolerance 28\n",
                        "Trying tolerance 33\n",
                        "Found 79 stars\n"
                    ]
                },
                {
                    "name": "stderr",
                    "output_type": "stream",
                    "text": [
                        "100%|██████████| 78/78 [00:00<00:00, 132.17it/s]\n",
                        "100%|██████████| 8/8 [00:33<00:00,  4.15s/it]\n"
                    ]
                },
                {
                    "data": {
                        "text/html": [
                            "<div>\n",
                            "<style scoped>\n",
                            "    .dataframe tbody tr th:only-of-type {\n",
                            "        vertical-align: middle;\n",
                            "    }\n",
                            "\n",
                            "    .dataframe tbody tr th {\n",
                            "        vertical-align: top;\n",
                            "    }\n",
                            "\n",
                            "    .dataframe thead th {\n",
                            "        text-align: right;\n",
                            "    }\n",
                            "</style>\n",
                            "<table border=\"1\" class=\"dataframe\">\n",
                            "  <thead>\n",
                            "    <tr style=\"text-align: right;\">\n",
                            "      <th></th>\n",
                            "      <th>iso</th>\n",
                            "      <th>n_dead</th>\n",
                            "      <th>n_hot</th>\n",
                            "      <th>n_stars</th>\n",
                            "      <th>tolerance</th>\n",
                            "    </tr>\n",
                            "  </thead>\n",
                            "  <tbody>\n",
                            "    <tr>\n",
                            "      <th>0</th>\n",
                            "      <td>100</td>\n",
                            "      <td>0</td>\n",
                            "      <td>0</td>\n",
                            "      <td>32</td>\n",
                            "      <td>3</td>\n",
                            "    </tr>\n",
                            "    <tr>\n",
                            "      <th>1</th>\n",
                            "      <td>200</td>\n",
                            "      <td>0</td>\n",
                            "      <td>1</td>\n",
                            "      <td>19</td>\n",
                            "      <td>8</td>\n",
                            "    </tr>\n",
                            "    <tr>\n",
                            "      <th>2</th>\n",
                            "      <td>400</td>\n",
                            "      <td>0</td>\n",
                            "      <td>2</td>\n",
                            "      <td>68</td>\n",
                            "      <td>3</td>\n",
                            "    </tr>\n",
                            "    <tr>\n",
                            "      <th>3</th>\n",
                            "      <td>800</td>\n",
                            "      <td>0</td>\n",
                            "      <td>5</td>\n",
                            "      <td>62</td>\n",
                            "      <td>3</td>\n",
                            "    </tr>\n",
                            "    <tr>\n",
                            "      <th>4</th>\n",
                            "      <td>1600</td>\n",
                            "      <td>0</td>\n",
                            "      <td>6</td>\n",
                            "      <td>45</td>\n",
                            "      <td>8</td>\n",
                            "    </tr>\n",
                            "    <tr>\n",
                            "      <th>5</th>\n",
                            "      <td>3200</td>\n",
                            "      <td>0</td>\n",
                            "      <td>35</td>\n",
                            "      <td>27</td>\n",
                            "      <td>13</td>\n",
                            "    </tr>\n",
                            "    <tr>\n",
                            "      <th>6</th>\n",
                            "      <td>6400</td>\n",
                            "      <td>86</td>\n",
                            "      <td>42</td>\n",
                            "      <td>64</td>\n",
                            "      <td>18</td>\n",
                            "    </tr>\n",
                            "    <tr>\n",
                            "      <th>7</th>\n",
                            "      <td>12800</td>\n",
                            "      <td>1315</td>\n",
                            "      <td>50</td>\n",
                            "      <td>78</td>\n",
                            "      <td>33</td>\n",
                            "    </tr>\n",
                            "  </tbody>\n",
                            "</table>\n",
                            "</div>"
                        ],
                        "text/plain": [
                            "     iso n_dead n_hot  n_stars  tolerance\n",
                            "0    100      0     0       32          3\n",
                            "1    200      0     1       19          8\n",
                            "2    400      0     2       68          3\n",
                            "3    800      0     5       62          3\n",
                            "4   1600      0     6       45          8\n",
                            "5   3200      0    35       27         13\n",
                            "6   6400     86    42       64         18\n",
                            "7  12800   1315    50       78         33"
                        ]
                    },
                    "execution_count": 6,
                    "metadata": {},
                    "output_type": "execute_result"
                }
            ],
            "source": [
                "values = []\n",
                "\n",
                "for iso, img in tqdm(imgs):\n",
                "    print(f\"Processing ISO {iso}\")\n",
                "    img = img.raw()\n",
                "    img_in = img.green_interpolated()\n",
                "    img_in = cl.correct_vignette(img_in)\n",
                "    img_in = img_in.channel(\"green\")\n",
                "\n",
                "    mask_hot, mask_dead = cl.find_defects(img_in)\n",
                "    mask = mask_hot | mask_dead\n",
                "    img_in = cl.replace_defects(img_in, mask)\n",
                "    img_in = img_in.green_interpolated()\n",
                "    img_in -= img_in.min()\n",
                "    img_in /= img_in.max()\n",
                "    try:\n",
                "        for i in range(20):\n",
                "            tolerance = i * 5 + 3\n",
                "            print(f\"Trying tolerance {tolerance}\")\n",
                "            mask = cl.classify_star_pixels(\n",
                "                img_in.to_bitdepth(8), tolerance=tolerance\n",
                "            )\n",
                "            if mask.sum() < mask.shape[0] * mask.shape[1] * 0.5:\n",
                "                break\n",
                "        stars = cl.stars_from_mask(mask)\n",
                "        values.append(\n",
                "            {\n",
                "                \"iso\": iso,\n",
                "                \"n_dead\": mask_dead.sum(),\n",
                "                \"n_hot\": mask_hot.sum(),\n",
                "                \"n_stars\": len(stars),\n",
                "                \"tolerance\": tolerance,\n",
                "            }\n",
                "        )\n",
                "    except Exception as e:\n",
                "        print(f\"Error: {e}\")\n",
                "        values.append(\n",
                "            {\n",
                "                \"iso\": iso,\n",
                "                \"n_dead\": mask_dead.sum(),\n",
                "                \"n_hot\": mask_hot.sum(),\n",
                "                \"n_stars\": -1,\n",
                "                \"tolerance\": -1,\n",
                "            }\n",
                "        )\n",
                "\n",
                "df_iso = pd.DataFrame(values)\n",
                "df_iso"
            ]
        },
        {
            "cell_type": "code",
            "execution_count": 7,
            "metadata": {},
            "outputs": [
                {
                    "data": {
                        "image/png": "[encoded data removed]",
                        "text/plain": [
                            "<Figure size 640x480 with 1 Axes>"
                        ]
                    },
                    "metadata": {},
                    "output_type": "display_data"
                },
                {
                    "data": {
                        "image/png": "[encoded data removed]",
                        "text/plain": [
                            "<Figure size 640x480 with 1 Axes>"
                        ]
                    },
                    "metadata": {},
                    "output_type": "display_data"
                }
            ],
            "source": [
                "# Plot number of stars\n",
                "plt.figure()\n",
                "plt.plot(df_iso[\"iso\"], df_iso[\"n_stars\"], \"o-\")\n",
                "plt.xlabel(\"ISO\")\n",
                "plt.ylabel(\"Number of stars\")\n",
                "plt.grid()\n",
                "plt.savefig(cl.Paths.saved / \"iso_n_stars.png\", dpi=300, bbox_inches=\"tight\")\n",
                "plt.show()\n",
                "\n",
                "# Plot number of dead and hot pixels\n",
                "plt.figure()\n",
                "plt.plot(df_iso[\"iso\"], df_iso[\"n_dead\"], \"o-\", label=\"Dead pixels\")\n",
                "plt.plot(df_iso[\"iso\"], df_iso[\"n_hot\"], \"o-\", label=\"Hot pixels\")\n",
                "plt.xlabel(\"ISO\")\n",
                "plt.ylabel(\"Number of pixels\")\n",
                "plt.yscale(\"log\")\n",
                "plt.legend()\n",
                "plt.grid()\n",
                "plt.savefig(cl.Paths.saved / \"iso_defects.png\", dpi=300, bbox_inches=\"tight\")\n",
                "plt.show()"
            ]
        }
    ],
    "metadata": {
        "kernelspec": {
            "display_name": ".venv",
            "language": "python",
            "name": "python3"
        },
        "language_info": {
            "codemirror_mode": {
                "name": "ipython",
                "version": 3
            },
            "file_extension": ".py",
            "mimetype": "text/x-python",
            "name": "python",
            "nbconvert_exporter": "python",
            "pygments_lexer": "ipython3",
            "version": "3.12.2"
        }
    },
    "nbformat": 4,
    "nbformat_minor": 2
}
