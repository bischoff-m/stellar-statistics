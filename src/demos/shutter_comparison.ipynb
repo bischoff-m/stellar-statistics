{
    "cells": [
        {
            "cell_type": "markdown",
            "metadata": {},
            "source": [
                "## Histogram of the image values"
            ]
        },
        {
            "cell_type": "code",
            "execution_count": 1,
            "metadata": {},
            "outputs": [],
            "source": [
                "%load_ext autoreload\n",
                "%autoreload 2"
            ]
        },
        {
            "cell_type": "code",
            "execution_count": 2,
            "metadata": {},
            "outputs": [],
            "source": [
                "import celestializer as cl\n",
                "from tqdm import tqdm\n",
                "import pandas as pd\n",
                "import numpy as np\n",
                "import matplotlib.pyplot as plt"
            ]
        },
        {
            "cell_type": "code",
            "execution_count": 3,
            "metadata": {},
            "outputs": [],
            "source": [
                "files = cl.list_observations()\n",
                "df = cl.raw_to_df(files)"
            ]
        },
        {
            "cell_type": "code",
            "execution_count": 4,
            "metadata": {},
            "outputs": [
                {
                    "data": {
                        "text/html": [
                            "<div>\n",
                            "<style scoped>\n",
                            "    .dataframe tbody tr th:only-of-type {\n",
                            "        vertical-align: middle;\n",
                            "    }\n",
                            "\n",
                            "    .dataframe tbody tr th {\n",
                            "        vertical-align: top;\n",
                            "    }\n",
                            "\n",
                            "    .dataframe thead th {\n",
                            "        text-align: right;\n",
                            "    }\n",
                            "</style>\n",
                            "<table border=\"1\" class=\"dataframe\">\n",
                            "  <thead>\n",
                            "    <tr style=\"text-align: right;\">\n",
                            "      <th></th>\n",
                            "      <th>filepath</th>\n",
                            "      <th>width</th>\n",
                            "      <th>height</th>\n",
                            "      <th>focal_length</th>\n",
                            "      <th>aperture</th>\n",
                            "      <th>shutter</th>\n",
                            "      <th>iso</th>\n",
                            "      <th>timestamp</th>\n",
                            "      <th>camera</th>\n",
                            "      <th>bit_depth</th>\n",
                            "    </tr>\n",
                            "  </thead>\n",
                            "  <tbody>\n",
                            "    <tr>\n",
                            "      <th>41</th>\n",
                            "      <td>observations/2024-11-05/IMG_3347.CR2</td>\n",
                            "      <td>5202</td>\n",
                            "      <td>3465</td>\n",
                            "      <td>23.0</td>\n",
                            "      <td>3.5</td>\n",
                            "      <td>0.1</td>\n",
                            "      <td>6400</td>\n",
                            "      <td>2024-11-05 00:57:16</td>\n",
                            "      <td>Canon EOS 1200D</td>\n",
                            "      <td>14</td>\n",
                            "    </tr>\n",
                            "    <tr>\n",
                            "      <th>40</th>\n",
                            "      <td>observations/2024-11-05/IMG_3346.CR2</td>\n",
                            "      <td>5202</td>\n",
                            "      <td>3465</td>\n",
                            "      <td>23.0</td>\n",
                            "      <td>3.5</td>\n",
                            "      <td>0.4</td>\n",
                            "      <td>6400</td>\n",
                            "      <td>2024-11-05 00:57:06</td>\n",
                            "      <td>Canon EOS 1200D</td>\n",
                            "      <td>14</td>\n",
                            "    </tr>\n",
                            "    <tr>\n",
                            "      <th>39</th>\n",
                            "      <td>observations/2024-11-05/IMG_3345.CR2</td>\n",
                            "      <td>5202</td>\n",
                            "      <td>3465</td>\n",
                            "      <td>23.0</td>\n",
                            "      <td>3.5</td>\n",
                            "      <td>1.0</td>\n",
                            "      <td>6400</td>\n",
                            "      <td>2024-11-05 00:56:46</td>\n",
                            "      <td>Canon EOS 1200D</td>\n",
                            "      <td>14</td>\n",
                            "    </tr>\n",
                            "    <tr>\n",
                            "      <th>38</th>\n",
                            "      <td>observations/2024-11-05/IMG_3344.CR2</td>\n",
                            "      <td>5202</td>\n",
                            "      <td>3465</td>\n",
                            "      <td>23.0</td>\n",
                            "      <td>3.5</td>\n",
                            "      <td>2.5</td>\n",
                            "      <td>6400</td>\n",
                            "      <td>2024-11-05 00:56:32</td>\n",
                            "      <td>Canon EOS 1200D</td>\n",
                            "      <td>14</td>\n",
                            "    </tr>\n",
                            "    <tr>\n",
                            "      <th>37</th>\n",
                            "      <td>observations/2024-11-05/IMG_3343.CR2</td>\n",
                            "      <td>5202</td>\n",
                            "      <td>3465</td>\n",
                            "      <td>23.0</td>\n",
                            "      <td>3.5</td>\n",
                            "      <td>4.0</td>\n",
                            "      <td>6400</td>\n",
                            "      <td>2024-11-05 00:56:21</td>\n",
                            "      <td>Canon EOS 1200D</td>\n",
                            "      <td>14</td>\n",
                            "    </tr>\n",
                            "    <tr>\n",
                            "      <th>36</th>\n",
                            "      <td>observations/2024-11-05/IMG_3342.CR2</td>\n",
                            "      <td>5202</td>\n",
                            "      <td>3465</td>\n",
                            "      <td>23.0</td>\n",
                            "      <td>3.5</td>\n",
                            "      <td>5.0</td>\n",
                            "      <td>6400</td>\n",
                            "      <td>2024-11-05 00:56:05</td>\n",
                            "      <td>Canon EOS 1200D</td>\n",
                            "      <td>14</td>\n",
                            "    </tr>\n",
                            "    <tr>\n",
                            "      <th>42</th>\n",
                            "      <td>observations/2024-11-05/IMG_3348.CR2</td>\n",
                            "      <td>5202</td>\n",
                            "      <td>3465</td>\n",
                            "      <td>23.0</td>\n",
                            "      <td>3.5</td>\n",
                            "      <td>10.0</td>\n",
                            "      <td>6400</td>\n",
                            "      <td>2024-11-05 00:57:44</td>\n",
                            "      <td>Canon EOS 1200D</td>\n",
                            "      <td>14</td>\n",
                            "    </tr>\n",
                            "    <tr>\n",
                            "      <th>35</th>\n",
                            "      <td>observations/2024-11-05/IMG_3341.CR2</td>\n",
                            "      <td>5202</td>\n",
                            "      <td>3465</td>\n",
                            "      <td>23.0</td>\n",
                            "      <td>3.5</td>\n",
                            "      <td>30.0</td>\n",
                            "      <td>6400</td>\n",
                            "      <td>2024-11-05 00:55:06</td>\n",
                            "      <td>Canon EOS 1200D</td>\n",
                            "      <td>14</td>\n",
                            "    </tr>\n",
                            "  </tbody>\n",
                            "</table>\n",
                            "</div>"
                        ],
                        "text/plain": [
                            "                                filepath  width  height  focal_length  \\\n",
                            "41  observations/2024-11-05/IMG_3347.CR2   5202    3465          23.0   \n",
                            "40  observations/2024-11-05/IMG_3346.CR2   5202    3465          23.0   \n",
                            "39  observations/2024-11-05/IMG_3345.CR2   5202    3465          23.0   \n",
                            "38  observations/2024-11-05/IMG_3344.CR2   5202    3465          23.0   \n",
                            "37  observations/2024-11-05/IMG_3343.CR2   5202    3465          23.0   \n",
                            "36  observations/2024-11-05/IMG_3342.CR2   5202    3465          23.0   \n",
                            "42  observations/2024-11-05/IMG_3348.CR2   5202    3465          23.0   \n",
                            "35  observations/2024-11-05/IMG_3341.CR2   5202    3465          23.0   \n",
                            "\n",
                            "    aperture  shutter   iso           timestamp           camera  bit_depth  \n",
                            "41       3.5      0.1  6400 2024-11-05 00:57:16  Canon EOS 1200D         14  \n",
                            "40       3.5      0.4  6400 2024-11-05 00:57:06  Canon EOS 1200D         14  \n",
                            "39       3.5      1.0  6400 2024-11-05 00:56:46  Canon EOS 1200D         14  \n",
                            "38       3.5      2.5  6400 2024-11-05 00:56:32  Canon EOS 1200D         14  \n",
                            "37       3.5      4.0  6400 2024-11-05 00:56:21  Canon EOS 1200D         14  \n",
                            "36       3.5      5.0  6400 2024-11-05 00:56:05  Canon EOS 1200D         14  \n",
                            "42       3.5     10.0  6400 2024-11-05 00:57:44  Canon EOS 1200D         14  \n",
                            "35       3.5     30.0  6400 2024-11-05 00:55:06  Canon EOS 1200D         14  "
                        ]
                    },
                    "metadata": {},
                    "output_type": "display_data"
                },
                {
                    "name": "stdout",
                    "output_type": "stream",
                    "text": [
                        "Load images\n"
                    ]
                },
                {
                    "name": "stderr",
                    "output_type": "stream",
                    "text": [
                        "100%|██████████| 8/8 [00:18<00:00,  2.33s/it]\n"
                    ]
                }
            ],
            "source": [
                "df_observation = df[df.filepath.str.startswith(\"observations\")]\n",
                "shutter_series = cl.grab_series(df_observation, \"shutter\")\n",
                "n_shutter = len(shutter_series)\n",
                "display(shutter_series)\n",
                "\n",
                "print(\"Load images\")\n",
                "imgs = [\n",
                "    (row[\"shutter\"], cl.RawImage(cl.Paths.data / row[\"filepath\"]).load())\n",
                "    for _, row in tqdm(shutter_series.iterrows(), total=n_shutter)\n",
                "]"
            ]
        },
        {
            "cell_type": "code",
            "execution_count": 5,
            "metadata": {},
            "outputs": [
                {
                    "name": "stderr",
                    "output_type": "stream",
                    "text": [
                        "  0%|          | 0/8 [00:00<?, ?it/s]"
                    ]
                },
                {
                    "name": "stdout",
                    "output_type": "stream",
                    "text": [
                        "Processing shutter 0.1\n"
                    ]
                },
                {
                    "name": "stdout",
                    "output_type": "stream",
                    "text": [
                        "Trying tolerance 3\n",
                        "Trying tolerance 8\n",
                        "Trying tolerance 13\n",
                        "Trying tolerance 18\n",
                        "Trying tolerance 23\n",
                        "Trying tolerance 28\n",
                        "Trying tolerance 33\n",
                        "Trying tolerance 38\n",
                        "Trying tolerance 43\n",
                        "Trying tolerance 48\n",
                        "Trying tolerance 53\n",
                        "Trying tolerance 58\n",
                        "Trying tolerance 63\n",
                        "Trying tolerance 68\n",
                        "Found 1 stars\n"
                    ]
                },
                {
                    "name": "stderr",
                    "output_type": "stream",
                    "text": [
                        "0it [00:00, ?it/s]\n",
                        " 12%|█▎        | 1/8 [00:04<00:33,  4.76s/it]"
                    ]
                },
                {
                    "name": "stdout",
                    "output_type": "stream",
                    "text": [
                        "Processing shutter 0.40000001\n",
                        "Trying tolerance 3\n",
                        "Trying tolerance 8\n",
                        "Trying tolerance 13\n",
                        "Trying tolerance 18\n",
                        "Trying tolerance 23\n",
                        "Trying tolerance 28\n",
                        "Trying tolerance 33\n",
                        "Found 2 stars\n"
                    ]
                },
                {
                    "name": "stderr",
                    "output_type": "stream",
                    "text": [
                        "100%|██████████| 1/1 [00:00<00:00, 135.12it/s]\n",
                        " 25%|██▌       | 2/8 [00:09<00:27,  4.50s/it]"
                    ]
                },
                {
                    "name": "stdout",
                    "output_type": "stream",
                    "text": [
                        "Processing shutter 1.0\n",
                        "Trying tolerance 3\n",
                        "Trying tolerance 8\n",
                        "Trying tolerance 13\n",
                        "Trying tolerance 18\n",
                        "Found 6 stars\n"
                    ]
                },
                {
                    "name": "stderr",
                    "output_type": "stream",
                    "text": [
                        "100%|██████████| 5/5 [00:00<00:00, 135.74it/s]\n",
                        " 38%|███▊      | 3/8 [00:12<00:20,  4.19s/it]"
                    ]
                },
                {
                    "name": "stdout",
                    "output_type": "stream",
                    "text": [
                        "Processing shutter 2.5\n",
                        "Trying tolerance 3\n",
                        "Trying tolerance 8\n",
                        "Trying tolerance 13\n",
                        "Trying tolerance 18\n",
                        "Found 15 stars\n"
                    ]
                },
                {
                    "name": "stderr",
                    "output_type": "stream",
                    "text": [
                        "100%|██████████| 14/14 [00:00<00:00, 125.67it/s]\n",
                        " 50%|█████     | 4/8 [00:16<00:16,  4.03s/it]"
                    ]
                },
                {
                    "name": "stdout",
                    "output_type": "stream",
                    "text": [
                        "Processing shutter 4.0\n",
                        "Trying tolerance 3\n",
                        "Trying tolerance 8\n",
                        "Trying tolerance 13\n",
                        "Trying tolerance 18\n",
                        "Found 29 stars\n"
                    ]
                },
                {
                    "name": "stderr",
                    "output_type": "stream",
                    "text": [
                        "100%|██████████| 28/28 [00:00<00:00, 131.16it/s]\n",
                        " 62%|██████▎   | 5/8 [00:20<00:11,  3.96s/it]"
                    ]
                },
                {
                    "name": "stdout",
                    "output_type": "stream",
                    "text": [
                        "Processing shutter 5.0\n",
                        "Trying tolerance 3\n",
                        "Trying tolerance 8\n",
                        "Trying tolerance 13\n",
                        "Trying tolerance 18\n",
                        "Found 65 stars\n"
                    ]
                },
                {
                    "name": "stderr",
                    "output_type": "stream",
                    "text": [
                        "100%|██████████| 64/64 [00:00<00:00, 127.23it/s]\n",
                        " 75%|███████▌  | 6/8 [00:24<00:08,  4.01s/it]"
                    ]
                },
                {
                    "name": "stdout",
                    "output_type": "stream",
                    "text": [
                        "Processing shutter 10.0\n",
                        "Trying tolerance 3\n",
                        "Trying tolerance 8\n",
                        "Trying tolerance 13\n",
                        "Trying tolerance 18\n",
                        "Found 150 stars\n"
                    ]
                },
                {
                    "name": "stderr",
                    "output_type": "stream",
                    "text": [
                        "100%|██████████| 149/149 [00:01<00:00, 123.14it/s]\n",
                        " 88%|████████▊ | 7/8 [00:30<00:04,  4.65s/it]"
                    ]
                },
                {
                    "name": "stdout",
                    "output_type": "stream",
                    "text": [
                        "Processing shutter 30.0\n",
                        "Trying tolerance 3\n",
                        "Trying tolerance 8\n",
                        "Trying tolerance 13\n",
                        "Trying tolerance 18\n",
                        "Trying tolerance 23\n",
                        "Found 165 stars\n"
                    ]
                },
                {
                    "name": "stderr",
                    "output_type": "stream",
                    "text": [
                        "100%|██████████| 164/164 [00:01<00:00, 125.87it/s]\n",
                        "100%|██████████| 8/8 [00:36<00:00,  4.57s/it]\n"
                    ]
                },
                {
                    "data": {
                        "text/html": [
                            "<div>\n",
                            "<style scoped>\n",
                            "    .dataframe tbody tr th:only-of-type {\n",
                            "        vertical-align: middle;\n",
                            "    }\n",
                            "\n",
                            "    .dataframe tbody tr th {\n",
                            "        vertical-align: top;\n",
                            "    }\n",
                            "\n",
                            "    .dataframe thead th {\n",
                            "        text-align: right;\n",
                            "    }\n",
                            "</style>\n",
                            "<table border=\"1\" class=\"dataframe\">\n",
                            "  <thead>\n",
                            "    <tr style=\"text-align: right;\">\n",
                            "      <th></th>\n",
                            "      <th>shutter</th>\n",
                            "      <th>n_dead</th>\n",
                            "      <th>n_hot</th>\n",
                            "      <th>n_stars</th>\n",
                            "      <th>tolerance</th>\n",
                            "    </tr>\n",
                            "  </thead>\n",
                            "  <tbody>\n",
                            "    <tr>\n",
                            "      <th>0</th>\n",
                            "      <td>0.1</td>\n",
                            "      <td>50</td>\n",
                            "      <td>1</td>\n",
                            "      <td>0</td>\n",
                            "      <td>68</td>\n",
                            "    </tr>\n",
                            "    <tr>\n",
                            "      <th>1</th>\n",
                            "      <td>0.4</td>\n",
                            "      <td>32</td>\n",
                            "      <td>1</td>\n",
                            "      <td>1</td>\n",
                            "      <td>33</td>\n",
                            "    </tr>\n",
                            "    <tr>\n",
                            "      <th>2</th>\n",
                            "      <td>1.0</td>\n",
                            "      <td>30</td>\n",
                            "      <td>5</td>\n",
                            "      <td>5</td>\n",
                            "      <td>18</td>\n",
                            "    </tr>\n",
                            "    <tr>\n",
                            "      <th>3</th>\n",
                            "      <td>2.5</td>\n",
                            "      <td>37</td>\n",
                            "      <td>13</td>\n",
                            "      <td>14</td>\n",
                            "      <td>18</td>\n",
                            "    </tr>\n",
                            "    <tr>\n",
                            "      <th>4</th>\n",
                            "      <td>4.0</td>\n",
                            "      <td>101</td>\n",
                            "      <td>32</td>\n",
                            "      <td>28</td>\n",
                            "      <td>18</td>\n",
                            "    </tr>\n",
                            "    <tr>\n",
                            "      <th>5</th>\n",
                            "      <td>5.0</td>\n",
                            "      <td>111</td>\n",
                            "      <td>36</td>\n",
                            "      <td>64</td>\n",
                            "      <td>18</td>\n",
                            "    </tr>\n",
                            "    <tr>\n",
                            "      <th>6</th>\n",
                            "      <td>10.0</td>\n",
                            "      <td>80</td>\n",
                            "      <td>42</td>\n",
                            "      <td>149</td>\n",
                            "      <td>18</td>\n",
                            "    </tr>\n",
                            "    <tr>\n",
                            "      <th>7</th>\n",
                            "      <td>30.0</td>\n",
                            "      <td>10</td>\n",
                            "      <td>47</td>\n",
                            "      <td>164</td>\n",
                            "      <td>23</td>\n",
                            "    </tr>\n",
                            "  </tbody>\n",
                            "</table>\n",
                            "</div>"
                        ],
                        "text/plain": [
                            "   shutter n_dead n_hot  n_stars  tolerance\n",
                            "0      0.1     50     1        0         68\n",
                            "1      0.4     32     1        1         33\n",
                            "2      1.0     30     5        5         18\n",
                            "3      2.5     37    13       14         18\n",
                            "4      4.0    101    32       28         18\n",
                            "5      5.0    111    36       64         18\n",
                            "6     10.0     80    42      149         18\n",
                            "7     30.0     10    47      164         23"
                        ]
                    },
                    "execution_count": 5,
                    "metadata": {},
                    "output_type": "execute_result"
                }
            ],
            "source": [
                "values = []\n",
                "\n",
                "for shutter, img in tqdm(imgs):\n",
                "    print(f\"Processing shutter {shutter}\")\n",
                "    img = img.raw()\n",
                "    img_in = img.green_interpolated()\n",
                "    img_in = cl.correct_vignette(img_in)\n",
                "    img_in = img_in.channel(\"green\")\n",
                "\n",
                "    mask_hot, mask_dead = cl.find_defects(img_in)\n",
                "    mask = mask_hot | mask_dead\n",
                "    img_in = cl.replace_defects(img_in, mask)\n",
                "    img_in = img_in.green_interpolated()\n",
                "    img_in -= img_in.min()\n",
                "    img_in /= img_in.max()\n",
                "    try:\n",
                "        for i in range(20):\n",
                "            tolerance = i * 5 + 3\n",
                "            print(f\"Trying tolerance {tolerance}\")\n",
                "            mask = cl.classify_star_pixels(\n",
                "                img_in.to_bitdepth(8), tolerance=tolerance\n",
                "            )\n",
                "            if mask.sum() < mask.shape[0] * mask.shape[1] * 0.5:\n",
                "                break\n",
                "        stars = cl.stars_from_mask(mask)\n",
                "        values.append(\n",
                "            {\n",
                "                \"shutter\": shutter,\n",
                "                \"n_dead\": mask_dead.sum(),\n",
                "                \"n_hot\": mask_hot.sum(),\n",
                "                \"n_stars\": len(stars),\n",
                "                \"tolerance\": tolerance,\n",
                "            }\n",
                "        )\n",
                "    except Exception as e:\n",
                "        print(f\"Error: {e}\")\n",
                "        values.append(\n",
                "            {\n",
                "                \"shutter\": shutter,\n",
                "                \"n_dead\": mask_dead.sum(),\n",
                "                \"n_hot\": mask_hot.sum(),\n",
                "                \"n_stars\": -1,\n",
                "                \"tolerance\": -1,\n",
                "            }\n",
                "        )\n",
                "\n",
                "df_shutter = pd.DataFrame(values)\n",
                "df_shutter"
            ]
        },
        {
            "cell_type": "code",
            "execution_count": 6,
            "metadata": {},
            "outputs": [
                {
                    "data": {
                        "image/png": "[encoded data removed]",
                        "text/plain": [
                            "<Figure size 640x480 with 1 Axes>"
                        ]
                    },
                    "metadata": {},
                    "output_type": "display_data"
                },
                {
                    "data": {
                        "image/png": "[encoded data removed]",
                        "text/plain": [
                            "<Figure size 640x480 with 1 Axes>"
                        ]
                    },
                    "metadata": {},
                    "output_type": "display_data"
                }
            ],
            "source": [
                "# Plot number of stars\n",
                "plt.figure()\n",
                "plt.plot(df_shutter[\"shutter\"], df_shutter[\"n_stars\"], \"o-\")\n",
                "plt.xlabel(\"shutter speed\")\n",
                "plt.ylabel(\"Number of stars\")\n",
                "plt.grid()\n",
                "plt.savefig(cl.Paths.saved / \"shutter_n_stars.png\", dpi=300, bbox_inches=\"tight\")\n",
                "plt.show()\n",
                "\n",
                "# Plot number of dead and hot pixels\n",
                "plt.figure()\n",
                "plt.plot(df_shutter[\"shutter\"], df_shutter[\"n_dead\"], \"o-\", label=\"Dead pixels\")\n",
                "plt.plot(df_shutter[\"shutter\"], df_shutter[\"n_hot\"], \"o-\", label=\"Hot pixels\")\n",
                "plt.xlabel(\"shutter speed\")\n",
                "plt.ylabel(\"Number of pixels\")\n",
                "plt.yscale(\"log\")\n",
                "plt.legend()\n",
                "plt.grid()\n",
                "plt.savefig(cl.Paths.saved / \"shutter_defects.png\", dpi=300, bbox_inches=\"tight\")\n",
                "plt.show()"
            ]
        }
    ],
    "metadata": {
        "kernelspec": {
            "display_name": ".venv",
            "language": "python",
            "name": "python3"
        },
        "language_info": {
            "codemirror_mode": {
                "name": "ipython",
                "version": 3
            },
            "file_extension": ".py",
            "mimetype": "text/x-python",
            "name": "python",
            "nbconvert_exporter": "python",
            "pygments_lexer": "ipython3",
            "version": "3.12.2"
        }
    },
    "nbformat": 4,
    "nbformat_minor": 2
}
